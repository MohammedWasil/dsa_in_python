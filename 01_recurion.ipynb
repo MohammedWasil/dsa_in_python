{
 "cells": [
  {
   "cell_type": "markdown",
   "id": "821d16b4-b521-4f34-9beb-7432b3c67e89",
   "metadata": {},
   "source": [
    "Print n to 1 numbers"
   ]
  },
  {
   "cell_type": "code",
   "execution_count": 9,
   "id": "33979814-2205-4a37-8616-8c9b33ea45d6",
   "metadata": {},
   "outputs": [],
   "source": [
    "def printNum(n):\n",
    "    if n == 1:\n",
    "        print(1)\n",
    "        return\n",
    "    print(n)\n",
    "    printNum(n-1)"
   ]
  },
  {
   "cell_type": "code",
   "execution_count": 10,
   "id": "aef2d4cf-ab69-4262-bc70-44c0fb46e24b",
   "metadata": {},
   "outputs": [
    {
     "name": "stdout",
     "output_type": "stream",
     "text": [
      "5\n",
      "4\n",
      "3\n",
      "2\n",
      "1\n"
     ]
    }
   ],
   "source": [
    "n = 5\n",
    "printNum(n)"
   ]
  },
  {
   "cell_type": "code",
   "execution_count": null,
   "id": "fc6ae666-f34c-4303-b319-b8ea59174dc6",
   "metadata": {},
   "outputs": [],
   "source": []
  },
  {
   "cell_type": "code",
   "execution_count": null,
   "id": "616c25f4-6d09-4b3e-9d74-73470115014d",
   "metadata": {},
   "outputs": [],
   "source": []
  }
 ],
 "metadata": {
  "kernelspec": {
   "display_name": "Python 3 (ipykernel)",
   "language": "python",
   "name": "python3"
  },
  "language_info": {
   "codemirror_mode": {
    "name": "ipython",
    "version": 3
   },
   "file_extension": ".py",
   "mimetype": "text/x-python",
   "name": "python",
   "nbconvert_exporter": "python",
   "pygments_lexer": "ipython3",
   "version": "3.12.7"
  }
 },
 "nbformat": 4,
 "nbformat_minor": 5
}
