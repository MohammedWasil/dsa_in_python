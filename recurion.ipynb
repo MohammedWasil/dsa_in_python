{
 "cells": [
  {
   "cell_type": "markdown",
   "id": "f8d523ab-7170-4d23-a300-cd95a23f76e8",
   "metadata": {},
   "source": [
    "print n to 1 even number "
   ]
  },
  {
   "cell_type": "code",
   "execution_count": 11,
   "id": "33979814-2205-4a37-8616-8c9b33ea45d6",
   "metadata": {},
   "outputs": [],
   "source": [
    "def printNum(n):\n",
    "    if n == 2:\n",
    "        print(2)\n",
    "        return\n",
    "    print(n)\n",
    "    printNum(n-2)"
   ]
  },
  {
   "cell_type": "code",
   "execution_count": 12,
   "id": "aef2d4cf-ab69-4262-bc70-44c0fb46e24b",
   "metadata": {},
   "outputs": [
    {
     "name": "stdout",
     "output_type": "stream",
     "text": [
      "14\n",
      "12\n",
      "10\n",
      "8\n",
      "6\n",
      "4\n",
      "2\n"
     ]
    }
   ],
   "source": [
    "n = 14\n",
    "printNum(n)"
   ]
  }
 ],
 "metadata": {
  "kernelspec": {
   "display_name": "Python 3 (ipykernel)",
   "language": "python",
   "name": "python3"
  },
  "language_info": {
   "codemirror_mode": {
    "name": "ipython",
    "version": 3
   },
   "file_extension": ".py",
   "mimetype": "text/x-python",
   "name": "python",
   "nbconvert_exporter": "python",
   "pygments_lexer": "ipython3",
   "version": "3.12.7"
  }
 },
 "nbformat": 4,
 "nbformat_minor": 5
}
